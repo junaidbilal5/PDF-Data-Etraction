{
 "cells": [
  {
   "cell_type": "code",
   "execution_count": 1,
   "id": "986ebd22",
   "metadata": {},
   "outputs": [],
   "source": [
    "import io\n",
    "import fitz  \n",
    "import pytesseract\n",
    "from PIL import Image\n",
    "\n",
    "\n",
    "pdf_document = \"abdul_hafeez (1).pdf\"\n",
    "pdf = fitz.open(pdf_document)\n",
    "\n",
    "# Extract image from the first page of the PDF\n",
    "page = pdf[0]\n",
    "image_list = page.get_images(full=True)\n",
    "xref = image_list[0][0]\n",
    "\n",
    "base_image = pdf.extract_image(xref)\n",
    "image_bytes = base_image[\"image\"]\n",
    "\n",
    "\n",
    "image = Image.open(io.BytesIO(image_bytes))\n",
    "\n",
    "# Use pytesseract to extract text from the image\n",
    "extracted_text = pytesseract.image_to_string(image)\n",
    "\n"
   ]
  },
  {
   "cell_type": "code",
   "execution_count": 2,
   "id": "002adef1",
   "metadata": {},
   "outputs": [
    {
     "data": {
      "text/plain": [
       "('Abdul Hafeez Shafi Leather (Pvt) Ltd',\n",
       " '31/10/2022',\n",
       " '2022/003105',\n",
       " '91,843',\n",
       " 'PO-4049425 TO 1019459',\n",
       " '0000003218')"
      ]
     },
     "execution_count": 2,
     "metadata": {},
     "output_type": "execute_result"
    }
   ],
   "source": [
    "import re\n",
    "\n",
    "\n",
    "\n",
    "# Vendor Name\n",
    "vendor_name_match = re.search(r\"Supplier\\s*\\n\\n\\[(.*?)\\.\", extracted_text, re.DOTALL)\n",
    "vendor_name = vendor_name_match.group(1).strip() if vendor_name_match else None\n",
    "\n",
    "\n",
    "\n",
    "# Invoice Date\n",
    "invoice_date_match = re.search(r\"DC Date\\s*(\\d{2}/\\d{2}/\\d{4})\", extracted_text)\n",
    "invoice_date = invoice_date_match.group(1) if invoice_date_match else None\n",
    "\n",
    "# Invoice Number\n",
    "invoice_number_match = re.search(r\"S\\.T\\. INV\\. #\\s*(\\d{4}/\\d{6})\", extracted_text)\n",
    "invoice_number = invoice_number_match.group(1) if invoice_number_match else None\n",
    "\n",
    "\n",
    "# Invoice Amount \n",
    "invoice_amount_match = re.search(r\"Total\\s*[\\d,]+ o\\|\\s*([\\d,]+)\", extracted_text)\n",
    "invoice_amount = invoice_amount_match.group(1) if invoice_amount_match else None\n",
    "\n",
    "# PO Number\n",
    "po_number_match = re.search(r\"(PO-\\d+ TO \\d+)\", extracted_text)\n",
    "po_number = po_number_match.group(1) if po_number_match else None\n",
    "\n",
    "\n",
    "# Delivery Number\n",
    "delivery_number_match = re.search(r\"DC No,\\s+(\\d+)\", extracted_text)\n",
    "delivery_number = delivery_number_match.group(1) if delivery_number_match else None\n",
    "\n",
    "vendor_name, invoice_date, invoice_number, invoice_amount, po_number, delivery_number\n"
   ]
  },
  {
   "cell_type": "code",
   "execution_count": 3,
   "id": "0762a35b",
   "metadata": {},
   "outputs": [
    {
     "data": {
      "text/html": [
       "<div>\n",
       "<style scoped>\n",
       "    .dataframe tbody tr th:only-of-type {\n",
       "        vertical-align: middle;\n",
       "    }\n",
       "\n",
       "    .dataframe tbody tr th {\n",
       "        vertical-align: top;\n",
       "    }\n",
       "\n",
       "    .dataframe thead th {\n",
       "        text-align: right;\n",
       "    }\n",
       "</style>\n",
       "<table border=\"1\" class=\"dataframe\">\n",
       "  <thead>\n",
       "    <tr style=\"text-align: right;\">\n",
       "      <th></th>\n",
       "      <th>Vendor Name</th>\n",
       "      <th>Invoice Date</th>\n",
       "      <th>Invoice Number</th>\n",
       "      <th>Invoice Amount</th>\n",
       "      <th>PO Number</th>\n",
       "      <th>Delivery Number</th>\n",
       "    </tr>\n",
       "  </thead>\n",
       "  <tbody>\n",
       "    <tr>\n",
       "      <th>0</th>\n",
       "      <td>Abdul Hafeez Shafi Leather (Pvt) Ltd</td>\n",
       "      <td>31/10/2022</td>\n",
       "      <td>2022/003105</td>\n",
       "      <td>91,843</td>\n",
       "      <td>PO-4049425 TO 1019459</td>\n",
       "      <td>0000003218</td>\n",
       "    </tr>\n",
       "  </tbody>\n",
       "</table>\n",
       "</div>"
      ],
      "text/plain": [
       "                            Vendor Name Invoice Date Invoice Number  \\\n",
       "0  Abdul Hafeez Shafi Leather (Pvt) Ltd   31/10/2022    2022/003105   \n",
       "\n",
       "  Invoice Amount              PO Number Delivery Number  \n",
       "0         91,843  PO-4049425 TO 1019459      0000003218  "
      ]
     },
     "execution_count": 3,
     "metadata": {},
     "output_type": "execute_result"
    }
   ],
   "source": [
    "import pandas as pd\n",
    "\n",
    "# Creating a DataFrame to represent the information in table format\n",
    "data = {\n",
    "    \"Vendor Name\": [vendor_name],\n",
    "    \"Invoice Date\": [invoice_date],\n",
    "    \"Invoice Number\": [invoice_number],\n",
    "    \"Invoice Amount\": [invoice_amount],\n",
    "    \"PO Number\": [po_number],\n",
    "    \"Delivery Number\": [delivery_number]\n",
    "}\n",
    "\n",
    "table_df = pd.DataFrame(data)\n",
    "table_df\n"
   ]
  },
  {
   "cell_type": "code",
   "execution_count": null,
   "id": "85a48a28",
   "metadata": {},
   "outputs": [],
   "source": []
  },
  {
   "cell_type": "code",
   "execution_count": null,
   "id": "88e51509",
   "metadata": {},
   "outputs": [],
   "source": []
  }
 ],
 "metadata": {
  "kernelspec": {
   "display_name": "Python 3 (ipykernel)",
   "language": "python",
   "name": "python3"
  },
  "language_info": {
   "codemirror_mode": {
    "name": "ipython",
    "version": 3
   },
   "file_extension": ".py",
   "mimetype": "text/x-python",
   "name": "python",
   "nbconvert_exporter": "python",
   "pygments_lexer": "ipython3",
   "version": "3.10.9"
  }
 },
 "nbformat": 4,
 "nbformat_minor": 5
}
